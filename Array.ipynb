{
 "cells": [
  {
   "cell_type": "markdown",
   "metadata": {},
   "source": [
    "Problem -1\n",
    "https://www.naukri.com/code360/problems/two-sum_839653"
   ]
  },
  {
   "cell_type": "code",
   "execution_count": 1,
   "metadata": {},
   "outputs": [],
   "source": [
    "def find_pairs(arr, target):\n",
    "    seen = {}\n",
    "    pairs = []\n",
    "    \n",
    "    for num in arr:\n",
    "        complement = target - num\n",
    "        if complement in seen:\n",
    "            pairs.append((min(num, complement), max(num, complement)))\n",
    "        seen[num] = True\n",
    "    \n",
    "    # Sort the pairs to remove duplicates and ensure the order is consistent\n",
    "    pairs = list(set(pairs))\n",
    "    pairs.sort()\n",
    "    \n",
    "    if not pairs:\n",
    "        return [(-1, -1)]\n",
    "    \n",
    "    return pairs"
   ]
  },
  {
   "cell_type": "markdown",
   "metadata": {},
   "source": [
    "Problem -2\n",
    "https://leetcode.com/problems/best-time-to-buy-and-sell-stock/"
   ]
  },
  {
   "cell_type": "code",
   "execution_count": null,
   "metadata": {},
   "outputs": [],
   "source": [
    "def maxProfit(prices):\n",
    "    if not prices:\n",
    "        return 0\n",
    "    \n",
    "    min_price = float('inf')\n",
    "    max_profit = 0\n",
    "    \n",
    "    for price in prices:\n",
    "        # Update the minimum price encountered so far\n",
    "        if price < min_price:\n",
    "            min_price = price\n",
    "        \n",
    "        # Calculate the current profit and update the maximum profit\n",
    "        current_profit = price - min_price\n",
    "        if current_profit > max_profit:\n",
    "            max_profit = current_profit\n",
    "    \n",
    "    return max_profit"
   ]
  }
 ],
 "metadata": {
  "kernelspec": {
   "display_name": "Python 3",
   "language": "python",
   "name": "python3"
  },
  "language_info": {
   "codemirror_mode": {
    "name": "ipython",
    "version": 3
   },
   "file_extension": ".py",
   "mimetype": "text/x-python",
   "name": "python",
   "nbconvert_exporter": "python",
   "pygments_lexer": "ipython3",
   "version": "3.10.6"
  }
 },
 "nbformat": 4,
 "nbformat_minor": 2
}
