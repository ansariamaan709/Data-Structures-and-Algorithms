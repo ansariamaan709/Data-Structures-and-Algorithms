{
 "cells": [
  {
   "cell_type": "markdown",
   "metadata": {},
   "source": [
    "Problem -1\n",
    "https://www.naukri.com/code360/problems/two-sum_839653"
   ]
  },
  {
   "cell_type": "code",
   "execution_count": 1,
   "metadata": {},
   "outputs": [],
   "source": [
    "def find_pairs(arr, target):\n",
    "    seen = {}\n",
    "    pairs = []\n",
    "    \n",
    "    for num in arr:\n",
    "        complement = target - num\n",
    "        if complement in seen:\n",
    "            pairs.append((min(num, complement), max(num, complement)))\n",
    "        seen[num] = True\n",
    "    \n",
    "    # Sort the pairs to remove duplicates and ensure the order is consistent\n",
    "    pairs = list(set(pairs))\n",
    "    pairs.sort()\n",
    "    \n",
    "    if not pairs:\n",
    "        return [(-1, -1)]\n",
    "    \n",
    "    return pairs"
   ]
  },
  {
   "cell_type": "markdown",
   "metadata": {},
   "source": [
    "Problem -2\n",
    "https://leetcode.com/problems/best-time-to-buy-and-sell-stock/"
   ]
  },
  {
   "cell_type": "code",
   "execution_count": null,
   "metadata": {},
   "outputs": [],
   "source": [
    "def maxProfit(prices):\n",
    "    if not prices:\n",
    "        return 0\n",
    "    \n",
    "    min_price = float('inf')\n",
    "    max_profit = 0\n",
    "    \n",
    "    for price in prices:\n",
    "        # Update the minimum price encountered so far\n",
    "        if price < min_price:\n",
    "            min_price = price\n",
    "        \n",
    "        # Calculate the current profit and update the maximum profit\n",
    "        current_profit = price - min_price\n",
    "        if current_profit > max_profit:\n",
    "            max_profit = current_profit\n",
    "    \n",
    "    return max_profit"
   ]
  },
  {
   "cell_type": "markdown",
   "metadata": {},
   "source": [
    "Problem 3 : https://leetcode.com/problems/best-time-to-buy-and-sell-stock-ii/"
   ]
  },
  {
   "cell_type": "code",
   "execution_count": 14,
   "metadata": {},
   "outputs": [
    {
     "name": "stdout",
     "output_type": "stream",
     "text": [
      "[1, 2, 3, 4, 5]\n"
     ]
    }
   ],
   "source": [
    "class Solution:\n",
    "    def maxProfit(self, prices: List[int]) -> int:\n",
    "        max_profit=0\n",
    "        for i in range(1,len(prices)):\n",
    "            if (prices[i]>prices[i-1]):\n",
    "                max_profit+=prices[i]-prices[i-1]\n",
    "        return max_profit"
   ]
  },
  {
   "cell_type": "markdown",
   "metadata": {},
   "source": [
    "Problem 4 : https://leetcode.com/problems/running-sum-of-1d-array/"
   ]
  },
  {
   "cell_type": "code",
   "execution_count": null,
   "metadata": {},
   "outputs": [],
   "source": [
    "class Solution:\n",
    "    def runningSum(self, nums: List[int]) -> List[int]:\n",
    "        for i in range(0,len(nums)):\n",
    "            if (i!=0):\n",
    "                totalSum=nums[i]+nums[i-1]\n",
    "                nums[i]=totalSum\n",
    "        return nums"
   ]
  },
  {
   "cell_type": "markdown",
   "metadata": {},
   "source": [
    "Problem 5 : https://leetcode.com/problems/majority-element/"
   ]
  },
  {
   "cell_type": "code",
   "execution_count": null,
   "metadata": {},
   "outputs": [],
   "source": [
    "def majorityElement(nums):\n",
    "    candidate = None\n",
    "    count = 0\n",
    "    \n",
    "    for num in nums:\n",
    "        if count == 0:\n",
    "            candidate = num\n",
    "        if num == candidate:\n",
    "            count += 1\n",
    "        else:\n",
    "            count -= 1\n",
    "    \n",
    "    return candidate\n",
    "\n",
    "\n",
    "# My Solution\n",
    "\n",
    "class Solution:\n",
    "    def majorityElement(self, nums: List[int]) -> int:\n",
    "        s=set(nums)\n",
    "        d={x:nums.count(x) for x in s}\n",
    "        return max(d, key=d.get)"
   ]
  }
 ],
 "metadata": {
  "kernelspec": {
   "display_name": "Python 3",
   "language": "python",
   "name": "python3"
  },
  "language_info": {
   "codemirror_mode": {
    "name": "ipython",
    "version": 3
   },
   "file_extension": ".py",
   "mimetype": "text/x-python",
   "name": "python",
   "nbconvert_exporter": "python",
   "pygments_lexer": "ipython3",
   "version": "3.10.6"
  }
 },
 "nbformat": 4,
 "nbformat_minor": 2
}
